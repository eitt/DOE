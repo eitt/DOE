{
 "cells": [
  {
   "attachments": {},
   "cell_type": "markdown",
   "metadata": {},
   "source": [
    "# Explaining the Python Code\n",
    "\n",
    "This Python code is using several libraries to create a dataset, visualize it, and perform a one-way ANOVA analysis. Let's break it down:\n",
    "\n"
   ]
  },
  {
   "attachments": {},
   "cell_type": "markdown",
   "metadata": {},
   "source": [
    "## Importing Libraries\n",
    "\n",
    "```python\n",
    "import pandas as pd\n",
    "import numpy as np\n",
    "import matplotlib.pyplot as plt\n",
    "import seaborn as sns\n",
    "import plotly.express as px\n",
    "import statsmodels.api as sm\n",
    "from statsmodels.formula.api import ols\n",
    "import scipy.stats as stats\n",
    "```\n",
    "\n",
    "The code starts by importing necessary libraries:\n",
    "\n",
    "- `pandas` for data manipulation and analysis.\n",
    "- `numpy` for numerical operations.\n",
    "- `matplotlib.pyplot` and `seaborn` for data visualization.\n",
    "- `plotly.express` for interactive data visualization.\n",
    "- `statsmodels.api` and `statsmodels.formula.api.ols` for statistical modeling.\n",
    "- `scipy.stats` for statistical functions.\n",
    "\n"
   ]
  },
  {
   "cell_type": "code",
   "execution_count": 1,
   "metadata": {},
   "outputs": [],
   "source": [
    "import pandas as pd\n",
    "import numpy as np\n",
    "import matplotlib.pyplot as plt\n",
    "import seaborn as sns\n",
    "#import plotly.express as px\n",
    "import statsmodels.api as sm\n",
    "from statsmodels.formula.api import ols\n",
    "import scipy.stats as stats"
   ]
  },
  {
   "attachments": {},
   "cell_type": "markdown",
   "metadata": {},
   "source": [
    "## Creating a DataFrame\n",
    "\n",
    "```python\n",
    "df = pd.DataFrame({'Group': np.random.choice(['A', 'B', 'C'], size=100),\n",
    "                    'Score': np.random.randint(0, 100, size=100)})\n",
    "```\n",
    "\n",
    "This code creates a pandas DataFrame with two columns: 'Group' and 'Score'. The 'Group' column is populated with random choices from the list ['A', 'B', 'C'], and the 'Score' column is populated with a normal distribution with a mean of 50 and a standard deviation of 10. The size parameter specifies that 100 values should be generated for each column.\n",
    "\n"
   ]
  },
  {
   "cell_type": "code",
   "execution_count": 2,
   "metadata": {},
   "outputs": [],
   "source": [
    "df = pd.DataFrame({'Group': np.random.choice(['A', 'B', 'C'], size=100),\n",
    "                    'Score': np.random.normal(loc=50, scale=10, size=100)})                  \n",
    "                    "
   ]
  },
  {
   "attachments": {},
   "cell_type": "markdown",
   "metadata": {},
   "source": [
    "## Plotting a Boxplot\n",
    "\n",
    "```python\n",
    "sns.boxplot(x='Group', y='Score', data=df)\n",
    "plt.show()\n",
    "```\n",
    "\n",
    "This code uses seaborn's `boxplot` function to create a boxplot of the scores for each group. The `plt.show()` function is used to display the plot.\n",
    "\n",
    "\n"
   ]
  },
  {
   "cell_type": "code",
   "execution_count": 3,
   "metadata": {},
   "outputs": [
    {
     "data": {
      "image/png": "[encoded data removed]",
      "text/plain": [
       "<Figure size 640x480 with 1 Axes>"
      ]
     },
     "metadata": {},
     "output_type": "display_data"
    }
   ],
   "source": [
    "sns.boxplot(x='Group', y='Score', data=df)\n",
    "plt.show()"
   ]
  },
  {
   "attachments": {},
   "cell_type": "markdown",
   "metadata": {},
   "source": [
    "## Plotting a Box Plot with Plotly\n",
    "\n",
    "```python\n",
    "fig = px.box(df, x='Group', y='Score', color='Group',points='all')\n",
    "fig.show()\n",
    "```\n",
    "\n",
    "This code uses Plotly Express to create an interactive boxplot of the scores for each group. The `fig.show()` function is used to display the plot. Nevertheless, this environment does not support Plotly. Look for a in-deep information in the following link: [Plotly for Python](https://plotly.com/python/)\n",
    "\n"
   ]
  },
  {
   "attachments": {},
   "cell_type": "markdown",
   "metadata": {},
   "source": [
    "## Adding Linear Regression\n",
    "\n",
    "```python\n",
    "model = ols('Score ~ C(Group)', data=df).fit()\n",
    "```\n",
    "\n",
    "This code creates a linear regression model using the 'Group' column as the independent variable and the 'Score' column as the dependent variable. The `C(Group)` part of the formula specifies that 'Group' is a categorical variable.\n",
    "\n"
   ]
  },
  {
   "cell_type": "code",
   "execution_count": 4,
   "metadata": {},
   "outputs": [
    {
     "name": "stdout",
     "output_type": "stream",
     "text": [
      "                            OLS Regression Results                            \n",
      "==============================================================================\n",
      "Dep. Variable:                  Score   R-squared:                       0.017\n",
      "Model:                            OLS   Adj. R-squared:                 -0.004\n",
      "Method:                 Least Squares   F-statistic:                    0.8251\n",
      "Date:                Tue, 20 Jun 2023   Prob (F-statistic):              0.441\n",
      "Time:                        15:21:28   Log-Likelihood:                -367.47\n",
      "No. Observations:                 100   AIC:                             740.9\n",
      "Df Residuals:                      97   BIC:                             748.8\n",
      "Df Model:                           2                                         \n",
      "Covariance Type:            nonrobust                                         \n",
      "=================================================================================\n",
      "                    coef    std err          t      P>|t|      [0.025      0.975]\n",
      "---------------------------------------------------------------------------------\n",
      "Intercept        46.7649      1.740     26.873      0.000      43.311      50.219\n",
      "C(Group)[T.B]     2.4631      2.345      1.050      0.296      -2.191       7.117\n",
      "C(Group)[T.C]     2.9059      2.461      1.181      0.241      -1.979       7.790\n",
      "==============================================================================\n",
      "Omnibus:                        7.152   Durbin-Watson:                   2.261\n",
      "Prob(Omnibus):                  0.028   Jarque-Bera (JB):                7.932\n",
      "Skew:                           0.416   Prob(JB):                       0.0190\n",
      "Kurtosis:                       4.101   Cond. No.                         3.86\n",
      "==============================================================================\n",
      "\n",
      "Notes:\n",
      "[1] Standard Errors assume that the covariance matrix of the errors is correctly specified.\n"
     ]
    }
   ],
   "source": [
    "model = ols('Score ~ C(Group)', data=df).fit()\n",
    "\n",
    "print(model.summary())"
   ]
  }
 ],
 "metadata": {
  "kernelspec": {
   "display_name": "Python 3",
   "language": "python",
   "name": "python3"
  },
  "language_info": {
   "codemirror_mode": {
    "name": "ipython",
    "version": 3
   },
   "file_extension": ".py",
   "mimetype": "text/x-python",
   "name": "python",
   "nbconvert_exporter": "python",
   "pygments_lexer": "ipython3",
   "version": "3.10.8"
  },
  "widgets": {
   "application/vnd.jupyter.widget-state+json": {
    "state": {},
    "version_major": 2,
    "version_minor": 0
   }
  }
 },
 "nbformat": 4,
 "nbformat_minor": 4
}
