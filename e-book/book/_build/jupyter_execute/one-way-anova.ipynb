{
 "cells": [
  {
   "attachments": {},
   "cell_type": "markdown",
   "metadata": {},
   "source": [
    "# Explaining the Python Code\n",
    "\n",
    "This Python code is using several libraries to create a dataset, visualize it, and perform a one-way ANOVA analysis. Let's break it down:\n",
    "\n"
   ]
  },
  {
   "attachments": {},
   "cell_type": "markdown",
   "metadata": {},
   "source": [
    "## Importing Libraries\n",
    "\n",
    "```python\n",
    "import pandas as pd\n",
    "import numpy as np\n",
    "import matplotlib.pyplot as plt\n",
    "import seaborn as sns\n",
    "import plotly.express as px\n",
    "import statsmodels.api as sm\n",
    "from statsmodels.formula.api import ols\n",
    "import scipy.stats as stats\n",
    "```\n",
    "\n",
    "The code starts by importing necessary libraries:\n",
    "\n",
    "- `pandas` for data manipulation and analysis.\n",
    "- `numpy` for numerical operations.\n",
    "- `matplotlib.pyplot` and `seaborn` for data visualization.\n",
    "- `plotly.express` for interactive data visualization.\n",
    "- `statsmodels.api` and `statsmodels.formula.api.ols` for statistical modeling.\n",
    "- `scipy.stats` for statistical functions.\n",
    "\n"
   ]
  },
  {
   "cell_type": "code",
   "execution_count": 1,
   "metadata": {},
   "outputs": [],
   "source": [
    "import pandas as pd\n",
    "import numpy as np\n",
    "import matplotlib.pyplot as plt\n",
    "import seaborn as sns\n",
    "#import plotly.express as px\n",
    "import statsmodels.api as sm\n",
    "from statsmodels.formula.api import ols\n",
    "import scipy.stats as stats"
   ]
  },
  {
   "attachments": {},
   "cell_type": "markdown",
   "metadata": {},
   "source": [
    "## Creating a DataFrame\n",
    "\n",
    "```python\n",
    "df = pd.DataFrame({'Group': np.random.choice(['A', 'B', 'C'], size=100),\n",
    "                    'Score': np.random.randint(0, 100, size=100)})\n",
    "```\n",
    "\n",
    "This code creates a pandas DataFrame with two columns: 'Group' and 'Score'. The 'Group' column is populated with random choices from the list ['A', 'B', 'C'], and the 'Score' column is populated with a normal distribution with a mean of 50 and a standard deviation of 10. The size parameter specifies that 100 values should be generated for each column.\n",
    "\n"
   ]
  },
  {
   "cell_type": "code",
   "execution_count": 2,
   "metadata": {},
   "outputs": [],
   "source": [
    "df = pd.DataFrame({'Group': np.random.choice(['A', 'B', 'C'], size=100),\n",
    "                    'Score': np.random.normal(loc=50, scale=10, size=100)})                  \n",
    "                    "
   ]
  },
  {
   "attachments": {},
   "cell_type": "markdown",
   "metadata": {},
   "source": [
    "## Plotting a Boxplot\n",
    "\n",
    "```python\n",
    "sns.boxplot(x='Group', y='Score', data=df)\n",
    "plt.show()\n",
    "```\n",
    "\n",
    "This code uses seaborn's `boxplot` function to create a boxplot of the scores for each group. The `plt.show()` function is used to display the plot.\n",
    "\n",
    "\n"
   ]
  },
  {
   "cell_type": "code",
   "execution_count": 3,
   "metadata": {},
   "outputs": [
    {
     "data": {
      "image/png": "[encoded data removed]",
      "text/plain": [
       "<Figure size 640x480 with 1 Axes>"
      ]
     },
     "metadata": {},
     "output_type": "display_data"
    }
   ],
   "source": [
    "sns.boxplot(x='Group', y='Score',  data=df)\n",
    "plt.show()"
   ]
  },
  {
   "attachments": {},
   "cell_type": "markdown",
   "metadata": {},
   "source": [
    "## Plotting a Box Plot with Plotly\n",
    "\n",
    "```python\n",
    "fig = px.box(df, x='Group', y='Score', color='Group',points='all')\n",
    "fig.show()\n",
    "```\n",
    "\n",
    "This code uses Plotly Express to create an interactive boxplot of the scores for each group. The `fig.show()` function is used to display the plot. Nevertheless, this environment does not support Plotly. Look for a in-deep information in the following link: [Plotly for Python](https://plotly.com/python/)\n",
    "\n"
   ]
  },
  {
   "attachments": {},
   "cell_type": "markdown",
   "metadata": {},
   "source": [
    "## Adding Linear Regression\n",
    "\n",
    "```python\n",
    "model = ols('Score ~ C(Group)', data=df).fit()\n",
    "```\n",
    "\n",
    "This code creates a linear regression model using the 'Group' column as the independent variable and the 'Score' column as the dependent variable. The `C(Group)` part of the formula specifies that 'Group' is a categorical variable.\n",
    "\n"
   ]
  },
  {
   "cell_type": "code",
   "execution_count": 4,
   "metadata": {},
   "outputs": [
    {
     "name": "stdout",
     "output_type": "stream",
     "text": [
      "                            OLS Regression Results                            \n",
      "==============================================================================\n",
      "Dep. Variable:                  Score   R-squared:                       0.002\n",
      "Model:                            OLS   Adj. R-squared:                 -0.018\n",
      "Method:                 Least Squares   F-statistic:                    0.1035\n",
      "Date:                Sun, 11 Feb 2024   Prob (F-statistic):              0.902\n",
      "Time:                        15:46:01   Log-Likelihood:                -370.44\n",
      "No. Observations:                 100   AIC:                             746.9\n",
      "Df Residuals:                      97   BIC:                             754.7\n",
      "Df Model:                           2                                         \n",
      "Covariance Type:            nonrobust                                         \n",
      "=================================================================================\n",
      "                    coef    std err          t      P>|t|      [0.025      0.975]\n",
      "---------------------------------------------------------------------------------\n",
      "Intercept        48.6513      1.853     26.249      0.000      44.973      52.330\n",
      "C(Group)[T.B]    -1.0468      2.447     -0.428      0.670      -5.904       3.811\n",
      "C(Group)[T.C]    -0.9321      2.559     -0.364      0.716      -6.011       4.147\n",
      "==============================================================================\n",
      "Omnibus:                        6.030   Durbin-Watson:                   2.174\n",
      "Prob(Omnibus):                  0.049   Jarque-Bera (JB):                5.519\n",
      "Skew:                          -0.468   Prob(JB):                       0.0633\n",
      "Kurtosis:                       3.669   Cond. No.                         3.98\n",
      "==============================================================================\n",
      "\n",
      "Notes:\n",
      "[1] Standard Errors assume that the covariance matrix of the errors is correctly specified.\n"
     ]
    }
   ],
   "source": [
    "model = ols('Score ~ C(Group)', data=df).fit()\n",
    "\n",
    "print(model.summary())"
   ]
  },
  {
   "cell_type": "markdown",
   "metadata": {},
   "source": [
    "## The ANOVA Test"
   ]
  },
  {
   "cell_type": "markdown",
   "metadata": {},
   "source": [
    "```python\n",
    "anova_table = sm.stats.anova_lm(model, typ=2)\n",
    "print(anova_table)\n",
    "```\n",
    "This code applies the ANOVA test, considering the linear relationship described during the linear regression model. After that, the code generates a table summarizing the information regarding the Sum Squared, Degree of Freedom, Mean Squared, and the test value (in this case, the p-value). The decision-maker sets the threshold for accepting or rejecting the null hypothesis."
   ]
  },
  {
   "cell_type": "code",
   "execution_count": 5,
   "metadata": {},
   "outputs": [
    {
     "name": "stdout",
     "output_type": "stream",
     "text": [
      "               sum_sq    df         F   PR(>F)\n",
      "C(Group)    20.620528   2.0  0.103495  0.90178\n",
      "Residual  9663.211356  97.0       NaN      NaN\n"
     ]
    }
   ],
   "source": [
    "anova_table = sm.stats.anova_lm(model, typ=2)\n",
    "print(anova_table)\n"
   ]
  }
 ],
 "metadata": {
  "kernelspec": {
   "display_name": "Python 3",
   "language": "python",
   "name": "python3"
  },
  "language_info": {
   "codemirror_mode": {
    "name": "ipython",
    "version": 3
   },
   "file_extension": ".py",
   "mimetype": "text/x-python",
   "name": "python",
   "nbconvert_exporter": "python",
   "pygments_lexer": "ipython3",
   "version": "3.10.13"
  },
  "widgets": {
   "application/vnd.jupyter.widget-state+json": {
    "state": {},
    "version_major": 2,
    "version_minor": 0
   }
  }
 },
 "nbformat": 4,
 "nbformat_minor": 4
}